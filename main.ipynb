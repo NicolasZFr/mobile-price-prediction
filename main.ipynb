{
 "cells": [
  {
   "cell_type": "code",
   "execution_count": 67,
   "metadata": {},
   "outputs": [],
   "source": [
    "import pandas as pd\n",
    "import numpy as np\n",
    "from sklearn.model_selection import train_test_split, GridSearchCV, cross_val_score\n",
    "from sklearn.tree import DecisionTreeClassifier\n",
    "from sklearn.ensemble import RandomForestClassifier, VotingClassifier,AdaBoostClassifier\n",
    "from xgboost import XGBClassifier\n",
    "from sklearn.svm import SVC\n",
    "from sklearn.neighbors import KNeighborsClassifier\n",
    "import seaborn as sns\n",
    "from sklearn.metrics import f1_score,accuracy_score\n",
    "import matplotlib.pyplot as plt"
   ]
  },
  {
   "cell_type": "code",
   "execution_count": 3,
   "metadata": {},
   "outputs": [
    {
     "data": {
      "text/html": [
       "<div>\n",
       "<style scoped>\n",
       "    .dataframe tbody tr th:only-of-type {\n",
       "        vertical-align: middle;\n",
       "    }\n",
       "\n",
       "    .dataframe tbody tr th {\n",
       "        vertical-align: top;\n",
       "    }\n",
       "\n",
       "    .dataframe thead th {\n",
       "        text-align: right;\n",
       "    }\n",
       "</style>\n",
       "<table border=\"1\" class=\"dataframe\">\n",
       "  <thead>\n",
       "    <tr style=\"text-align: right;\">\n",
       "      <th></th>\n",
       "      <th>battery_power</th>\n",
       "      <th>blue</th>\n",
       "      <th>clock_speed</th>\n",
       "      <th>dual_sim</th>\n",
       "      <th>fc</th>\n",
       "      <th>four_g</th>\n",
       "      <th>int_memory</th>\n",
       "      <th>m_dep</th>\n",
       "      <th>mobile_wt</th>\n",
       "      <th>n_cores</th>\n",
       "      <th>...</th>\n",
       "      <th>px_height</th>\n",
       "      <th>px_width</th>\n",
       "      <th>ram</th>\n",
       "      <th>sc_h</th>\n",
       "      <th>sc_w</th>\n",
       "      <th>talk_time</th>\n",
       "      <th>three_g</th>\n",
       "      <th>touch_screen</th>\n",
       "      <th>wifi</th>\n",
       "      <th>price_range</th>\n",
       "    </tr>\n",
       "  </thead>\n",
       "  <tbody>\n",
       "    <tr>\n",
       "      <th>0</th>\n",
       "      <td>842</td>\n",
       "      <td>0</td>\n",
       "      <td>2.2</td>\n",
       "      <td>0</td>\n",
       "      <td>1</td>\n",
       "      <td>0</td>\n",
       "      <td>7</td>\n",
       "      <td>0.6</td>\n",
       "      <td>188</td>\n",
       "      <td>2</td>\n",
       "      <td>...</td>\n",
       "      <td>20</td>\n",
       "      <td>756</td>\n",
       "      <td>2549</td>\n",
       "      <td>9</td>\n",
       "      <td>7</td>\n",
       "      <td>19</td>\n",
       "      <td>0</td>\n",
       "      <td>0</td>\n",
       "      <td>1</td>\n",
       "      <td>1</td>\n",
       "    </tr>\n",
       "    <tr>\n",
       "      <th>1</th>\n",
       "      <td>1021</td>\n",
       "      <td>1</td>\n",
       "      <td>0.5</td>\n",
       "      <td>1</td>\n",
       "      <td>0</td>\n",
       "      <td>1</td>\n",
       "      <td>53</td>\n",
       "      <td>0.7</td>\n",
       "      <td>136</td>\n",
       "      <td>3</td>\n",
       "      <td>...</td>\n",
       "      <td>905</td>\n",
       "      <td>1988</td>\n",
       "      <td>2631</td>\n",
       "      <td>17</td>\n",
       "      <td>3</td>\n",
       "      <td>7</td>\n",
       "      <td>1</td>\n",
       "      <td>1</td>\n",
       "      <td>0</td>\n",
       "      <td>2</td>\n",
       "    </tr>\n",
       "    <tr>\n",
       "      <th>2</th>\n",
       "      <td>563</td>\n",
       "      <td>1</td>\n",
       "      <td>0.5</td>\n",
       "      <td>1</td>\n",
       "      <td>2</td>\n",
       "      <td>1</td>\n",
       "      <td>41</td>\n",
       "      <td>0.9</td>\n",
       "      <td>145</td>\n",
       "      <td>5</td>\n",
       "      <td>...</td>\n",
       "      <td>1263</td>\n",
       "      <td>1716</td>\n",
       "      <td>2603</td>\n",
       "      <td>11</td>\n",
       "      <td>2</td>\n",
       "      <td>9</td>\n",
       "      <td>1</td>\n",
       "      <td>1</td>\n",
       "      <td>0</td>\n",
       "      <td>2</td>\n",
       "    </tr>\n",
       "    <tr>\n",
       "      <th>3</th>\n",
       "      <td>615</td>\n",
       "      <td>1</td>\n",
       "      <td>2.5</td>\n",
       "      <td>0</td>\n",
       "      <td>0</td>\n",
       "      <td>0</td>\n",
       "      <td>10</td>\n",
       "      <td>0.8</td>\n",
       "      <td>131</td>\n",
       "      <td>6</td>\n",
       "      <td>...</td>\n",
       "      <td>1216</td>\n",
       "      <td>1786</td>\n",
       "      <td>2769</td>\n",
       "      <td>16</td>\n",
       "      <td>8</td>\n",
       "      <td>11</td>\n",
       "      <td>1</td>\n",
       "      <td>0</td>\n",
       "      <td>0</td>\n",
       "      <td>2</td>\n",
       "    </tr>\n",
       "    <tr>\n",
       "      <th>4</th>\n",
       "      <td>1821</td>\n",
       "      <td>1</td>\n",
       "      <td>1.2</td>\n",
       "      <td>0</td>\n",
       "      <td>13</td>\n",
       "      <td>1</td>\n",
       "      <td>44</td>\n",
       "      <td>0.6</td>\n",
       "      <td>141</td>\n",
       "      <td>2</td>\n",
       "      <td>...</td>\n",
       "      <td>1208</td>\n",
       "      <td>1212</td>\n",
       "      <td>1411</td>\n",
       "      <td>8</td>\n",
       "      <td>2</td>\n",
       "      <td>15</td>\n",
       "      <td>1</td>\n",
       "      <td>1</td>\n",
       "      <td>0</td>\n",
       "      <td>1</td>\n",
       "    </tr>\n",
       "  </tbody>\n",
       "</table>\n",
       "<p>5 rows × 21 columns</p>\n",
       "</div>"
      ],
      "text/plain": [
       "   battery_power  blue  clock_speed  dual_sim  fc  four_g  int_memory  m_dep  \\\n",
       "0            842     0          2.2         0   1       0           7    0.6   \n",
       "1           1021     1          0.5         1   0       1          53    0.7   \n",
       "2            563     1          0.5         1   2       1          41    0.9   \n",
       "3            615     1          2.5         0   0       0          10    0.8   \n",
       "4           1821     1          1.2         0  13       1          44    0.6   \n",
       "\n",
       "   mobile_wt  n_cores  ...  px_height  px_width   ram  sc_h  sc_w  talk_time  \\\n",
       "0        188        2  ...         20       756  2549     9     7         19   \n",
       "1        136        3  ...        905      1988  2631    17     3          7   \n",
       "2        145        5  ...       1263      1716  2603    11     2          9   \n",
       "3        131        6  ...       1216      1786  2769    16     8         11   \n",
       "4        141        2  ...       1208      1212  1411     8     2         15   \n",
       "\n",
       "   three_g  touch_screen  wifi  price_range  \n",
       "0        0             0     1            1  \n",
       "1        1             1     0            2  \n",
       "2        1             1     0            2  \n",
       "3        1             0     0            2  \n",
       "4        1             1     0            1  \n",
       "\n",
       "[5 rows x 21 columns]"
      ]
     },
     "execution_count": 3,
     "metadata": {},
     "output_type": "execute_result"
    }
   ],
   "source": [
    "df = pd.read_csv('./data/CellPhone_train.csv')\n",
    "df.head()"
   ]
  },
  {
   "cell_type": "markdown",
   "metadata": {},
   "source": [
    "## Análisis"
   ]
  },
  {
   "cell_type": "code",
   "execution_count": 72,
   "metadata": {},
   "outputs": [
    {
     "data": {
      "image/png": "[encoded data removed]",
      "text/plain": [
       "<Figure size 600x500 with 1 Axes>"
      ]
     },
     "metadata": {},
     "output_type": "display_data"
    }
   ],
   "source": [
    "plt.figure(figsize=(6,5))\n",
    "sns.boxplot(data=df,x='price_range',hue='price_range',y='ram', palette='deep',legend=False)\n",
    "plt.title(\"Price behavior based on ram\")\n",
    "plt.savefig(\"./images/pricevsram.png\")\n",
    "plt.show()"
   ]
  },
  {
   "cell_type": "code",
   "execution_count": 18,
   "metadata": {},
   "outputs": [
    {
     "data": {
      "text/plain": [
       "battery_power    0.200723\n",
       "blue             0.020573\n",
       "clock_speed     -0.006606\n",
       "dual_sim         0.017444\n",
       "fc               0.021998\n",
       "four_g           0.014772\n",
       "int_memory       0.044435\n",
       "m_dep            0.000853\n",
       "mobile_wt       -0.030302\n",
       "n_cores          0.004399\n",
       "pc               0.033599\n",
       "px_height        0.148858\n",
       "px_width         0.165818\n",
       "ram              0.917046\n",
       "sc_h             0.022986\n",
       "sc_w             0.038711\n",
       "talk_time        0.021859\n",
       "three_g          0.023611\n",
       "touch_screen    -0.030411\n",
       "wifi             0.018785\n",
       "price_range      1.000000\n",
       "Name: price_range, dtype: float64"
      ]
     },
     "execution_count": 18,
     "metadata": {},
     "output_type": "execute_result"
    }
   ],
   "source": [
    "df.corr()['price_range']"
   ]
  },
  {
   "cell_type": "markdown",
   "metadata": {},
   "source": [
    "## Modelado"
   ]
  },
  {
   "cell_type": "code",
   "execution_count": 19,
   "metadata": {},
   "outputs": [],
   "source": [
    "X_train, X_test, Y_train, Y_test = train_test_split(df.loc[:,'battery_power':'wifi'],df['price_range'],test_size=0.33,random_state=42)"
   ]
  },
  {
   "cell_type": "markdown",
   "metadata": {},
   "source": [
    "### Decission Tree Classifier"
   ]
  },
  {
   "cell_type": "code",
   "execution_count": 46,
   "metadata": {},
   "outputs": [],
   "source": [
    "params_dtc = {\n",
    "            'max_depth':np.arange(1,11).tolist(),\n",
    "            'min_samples_leaf':np.arange(10,21).tolist(),\n",
    "            'max_leaf_nodes':np.arange(10,21).tolist()\n",
    "            }"
   ]
  },
  {
   "cell_type": "code",
   "execution_count": 47,
   "metadata": {},
   "outputs": [
    {
     "name": "stdout",
     "output_type": "stream",
     "text": [
      "Best param for max_depth: 5\n",
      "Best param for max_leaf_nodes: 20\n",
      "Best param for min_samples_leaf: 10\n"
     ]
    }
   ],
   "source": [
    "grid_dtc = GridSearchCV(DecisionTreeClassifier(),params_dtc,cv=10,n_jobs=-1)\n",
    "grid_dtc.fit(X_train,Y_train)\n",
    "\n",
    "for k,v in grid_dtc.best_params_.items():\n",
    "    print(f'Best param for {k}: {v}')"
   ]
  },
  {
   "cell_type": "code",
   "execution_count": 48,
   "metadata": {},
   "outputs": [
    {
     "data": {
      "text/plain": [
       "0.7924242424242425"
      ]
     },
     "execution_count": 48,
     "metadata": {},
     "output_type": "execute_result"
    }
   ],
   "source": [
    "dtc = DecisionTreeClassifier(\n",
    "                                max_depth=grid_dtc.best_params_['max_depth'],\n",
    "                                min_samples_leaf=grid_dtc.best_params_['min_samples_leaf'],\n",
    "                                max_leaf_nodes=grid_dtc.best_params_['max_leaf_nodes']\n",
    "                            )\n",
    "dtc.fit(X_train,Y_train)\n",
    "dtc.score(X_test,Y_test)"
   ]
  },
  {
   "cell_type": "code",
   "execution_count": 49,
   "metadata": {},
   "outputs": [],
   "source": [
    "y_dtc = dtc.predict(X_test)"
   ]
  },
  {
   "cell_type": "markdown",
   "metadata": {},
   "source": [
    "### Random Forest"
   ]
  },
  {
   "cell_type": "code",
   "execution_count": 50,
   "metadata": {},
   "outputs": [],
   "source": [
    "params_rfc = {\n",
    "            'max_depth': [30, 40,50],\n",
    "            'min_samples_split': [2, 5, 10],\n",
    "            'min_samples_leaf': [1, 2, 4],\n",
    "            'max_leaf_nodes': [10,20,30]\n",
    "            }"
   ]
  },
  {
   "cell_type": "markdown",
   "metadata": {},
   "source": [
    "Best params search"
   ]
  },
  {
   "cell_type": "code",
   "execution_count": 51,
   "metadata": {},
   "outputs": [
    {
     "name": "stdout",
     "output_type": "stream",
     "text": [
      "Best param for max_depth: 50\n",
      "Best param for max_leaf_nodes: 30\n",
      "Best param for min_samples_leaf: 1\n",
      "Best param for min_samples_split: 5\n"
     ]
    }
   ],
   "source": [
    "grid_rfc = GridSearchCV(RandomForestClassifier(),params_rfc,cv=10,n_jobs=-1)\n",
    "grid_rfc.fit(X_train,Y_train)\n",
    "\n",
    "for k,v in grid_rfc.best_params_.items():\n",
    "    print(f'Best param for {k}: {v}')"
   ]
  },
  {
   "cell_type": "code",
   "execution_count": 52,
   "metadata": {},
   "outputs": [
    {
     "data": {
      "text/plain": [
       "0.874"
      ]
     },
     "execution_count": 52,
     "metadata": {},
     "output_type": "execute_result"
    }
   ],
   "source": [
    "rfc = RandomForestClassifier(\n",
    "                                max_features='sqrt',\n",
    "                                n_estimators=200,\n",
    "                                max_depth=grid_rfc.best_params_['max_depth'],\n",
    "                                min_samples_split=grid_rfc.best_params_['min_samples_split'],\n",
    "                                min_samples_leaf=grid_rfc.best_params_['min_samples_leaf'],\n",
    "                                max_leaf_nodes=grid_rfc.best_params_['max_leaf_nodes'],\n",
    "                                bootstrap=False,\n",
    "                                random_state=123\n",
    "                            )\n",
    "\n",
    "rfc.fit(X_train,Y_train)\n",
    "round(rfc.score(X_test,Y_test),3)"
   ]
  },
  {
   "cell_type": "code",
   "execution_count": 53,
   "metadata": {},
   "outputs": [],
   "source": [
    "y_rfc = rfc.predict(X_test)"
   ]
  },
  {
   "cell_type": "markdown",
   "metadata": {},
   "source": [
    "### KNeighbors Classifier"
   ]
  },
  {
   "cell_type": "code",
   "execution_count": 54,
   "metadata": {},
   "outputs": [],
   "source": [
    "param_knc = {\n",
    "    'n_neighbors': [3, 5, 7, 9, 11],\n",
    "    'weights': ['uniform', 'distance'],\n",
    "    'algorithm': ['auto', 'ball_tree', 'kd_tree', 'brute'],\n",
    "    'p': [1, 2],\n",
    "    'leaf_size': [10, 20, 30, 40, 50]\n",
    "}"
   ]
  },
  {
   "cell_type": "code",
   "execution_count": 55,
   "metadata": {},
   "outputs": [
    {
     "name": "stdout",
     "output_type": "stream",
     "text": [
      "Best param for algorithm: auto\n",
      "Best param for leaf_size: 10\n",
      "Best param for n_neighbors: 9\n",
      "Best param for p: 2\n",
      "Best param for weights: uniform\n"
     ]
    }
   ],
   "source": [
    "grid_knc = GridSearchCV(KNeighborsClassifier(),param_knc,cv=10,n_jobs=-1)\n",
    "grid_knc.fit(X_train,Y_train)\n",
    "\n",
    "for k,v in grid_knc.best_params_.items():\n",
    "    print(f'Best param for {k}: {v}')"
   ]
  },
  {
   "cell_type": "code",
   "execution_count": 56,
   "metadata": {},
   "outputs": [
    {
     "data": {
      "text/plain": [
       "0.9363636363636364"
      ]
     },
     "execution_count": 56,
     "metadata": {},
     "output_type": "execute_result"
    }
   ],
   "source": [
    "knc = KNeighborsClassifier(\n",
    "                            algorithm=grid_knc.best_params_['algorithm'],\n",
    "                            leaf_size=grid_knc.best_params_['leaf_size'],\n",
    "                            n_neighbors=grid_knc.best_params_['n_neighbors'],\n",
    "                            p=grid_knc.best_params_['p'],\n",
    "                            weights=grid_knc.best_params_['weights']\n",
    "                          )\n",
    "knc.fit(X_train,Y_train)\n",
    "knc.score(X_test,Y_test)"
   ]
  },
  {
   "cell_type": "code",
   "execution_count": 57,
   "metadata": {},
   "outputs": [],
   "source": [
    "y_knc = knc.predict(X_test)"
   ]
  },
  {
   "cell_type": "markdown",
   "metadata": {},
   "source": [
    "### XGBoost Classifier"
   ]
  },
  {
   "cell_type": "code",
   "execution_count": 58,
   "metadata": {},
   "outputs": [],
   "source": [
    "param_xgbc = {\n",
    "    'n_estimators': [200,300],\n",
    "    'learning_rate': [0.01, 0.1, 0.2],\n",
    "    'max_depth': [4, 5, 6],\n",
    "    'min_child_weight': [1, 3],\n",
    "    'gamma': [0.2, 0.3],\n",
    "    'subsample': [0.6, 0.8],\n",
    "    'colsample_bytree': [0.8, 1.0]\n",
    "}"
   ]
  },
  {
   "cell_type": "code",
   "execution_count": 59,
   "metadata": {},
   "outputs": [
    {
     "name": "stdout",
     "output_type": "stream",
     "text": [
      "Best param for colsample_bytree: 1.0\n",
      "Best param for gamma: 0.3\n",
      "Best param for learning_rate: 0.1\n",
      "Best param for max_depth: 5\n",
      "Best param for min_child_weight: 1\n",
      "Best param for n_estimators: 300\n",
      "Best param for subsample: 0.6\n"
     ]
    }
   ],
   "source": [
    "grid_xgbc = GridSearchCV(XGBClassifier(),param_xgbc,cv=10,n_jobs=-1)\n",
    "grid_xgbc.fit(X_train,Y_train)\n",
    "\n",
    "for k,v in grid_xgbc.best_params_.items():\n",
    "    print(f'Best param for {k}: {v}')"
   ]
  },
  {
   "cell_type": "code",
   "execution_count": 60,
   "metadata": {},
   "outputs": [
    {
     "data": {
      "text/plain": [
       "0.792"
      ]
     },
     "execution_count": 60,
     "metadata": {},
     "output_type": "execute_result"
    }
   ],
   "source": [
    "xgbc = XGBClassifier(\n",
    "                        colsample_bytree=grid_xgbc.best_params_['colsample_bytree'],\n",
    "                        gamma=grid_xgbc.best_params_['gamma'],\n",
    "                        learning_rate=grid_xgbc.best_params_['learning_rate'],\n",
    "                        max_depth=grid_xgbc.best_params_['max_depth'],\n",
    "                        min_child_weight=grid_xgbc.best_params_['min_child_weight'],\n",
    "                        n_estimators=grid_xgbc.best_params_['n_estimators'],\n",
    "                        subsample=grid_xgbc.best_params_['subsample'],\n",
    "                    )\n",
    "xgbc.fit(X_train,Y_train)\n",
    "round(dtc.score(X_test,Y_test),3)"
   ]
  },
  {
   "cell_type": "code",
   "execution_count": 61,
   "metadata": {},
   "outputs": [],
   "source": [
    "y_xgbc = xgbc.predict(X_test)"
   ]
  },
  {
   "cell_type": "markdown",
   "metadata": {},
   "source": [
    "### Adaboost Classifier"
   ]
  },
  {
   "cell_type": "code",
   "execution_count": 62,
   "metadata": {},
   "outputs": [],
   "source": [
    "param_abc = {\n",
    "    'n_estimators': [50, 100, 200, 300, 400],\n",
    "    'learning_rate': np.linspace(0.01, 0.5, 50),\n",
    "    'algorithm': ['SAMME', 'SAMME.R']\n",
    "}"
   ]
  },
  {
   "cell_type": "code",
   "execution_count": 63,
   "metadata": {},
   "outputs": [
    {
     "data": {
      "text/plain": [
       "0.9681818181818181"
      ]
     },
     "execution_count": 63,
     "metadata": {},
     "output_type": "execute_result"
    }
   ],
   "source": [
    "# abc = AdaBoostClassifier(DecisionTreeClassifier(max_depth=10),n_estimators=50,algorithm='SAMME',learning_rate=0.32)\n",
    "abc = AdaBoostClassifier(SVC(C=10,kernel='linear'),n_estimators=50,algorithm='SAMME',learning_rate=0.32)\n",
    "abc.fit(X_train,Y_train)\n",
    "abc.score(X_test,Y_test)"
   ]
  },
  {
   "cell_type": "code",
   "execution_count": 64,
   "metadata": {},
   "outputs": [],
   "source": [
    "y_abc = abc.predict(X_test)"
   ]
  },
  {
   "cell_type": "markdown",
   "metadata": {},
   "source": [
    "# Comparación de precisión de modelos"
   ]
  },
  {
   "cell_type": "code",
   "execution_count": 65,
   "metadata": {},
   "outputs": [
    {
     "name": "stdout",
     "output_type": "stream",
     "text": [
      "Decision Tree Classifier: 0.792\n",
      "Random Forest Classifier: 0.874\n",
      "KNeighbors Classifier:    0.936\n",
      "XGBoost Classifier:       0.912\n",
      "Adaboost Classifier:      0.968\n"
     ]
    }
   ],
   "source": [
    "\n",
    "\n",
    "print(f\"Decision Tree Classifier: {round(dtc.score(X_test,Y_test),3)}\")\n",
    "print(f\"Random Forest Classifier: {round(rfc.score(X_test,Y_test),3)}\")\n",
    "print(f\"KNeighbors Classifier:    {round(knc.score(X_test,Y_test),3)}\")\n",
    "print(f\"XGBoost Classifier:       {round(xgbc.score(X_test,Y_test),3)}\")\n",
    "print(f\"Adaboost Classifier:      {round(abc.score(X_test,Y_test),3)}\")"
   ]
  },
  {
   "cell_type": "code",
   "execution_count": 66,
   "metadata": {},
   "outputs": [
    {
     "data": {
      "text/html": [
       "<div>\n",
       "<style scoped>\n",
       "    .dataframe tbody tr th:only-of-type {\n",
       "        vertical-align: middle;\n",
       "    }\n",
       "\n",
       "    .dataframe tbody tr th {\n",
       "        vertical-align: top;\n",
       "    }\n",
       "\n",
       "    .dataframe thead th {\n",
       "        text-align: right;\n",
       "    }\n",
       "</style>\n",
       "<table border=\"1\" class=\"dataframe\">\n",
       "  <thead>\n",
       "    <tr style=\"text-align: right;\">\n",
       "      <th></th>\n",
       "      <th>Modelo</th>\n",
       "      <th>Accuracy</th>\n",
       "      <th>F1 score</th>\n",
       "    </tr>\n",
       "  </thead>\n",
       "  <tbody>\n",
       "    <tr>\n",
       "      <th>0</th>\n",
       "      <td>Decision Tree Classifier</td>\n",
       "      <td>0.792</td>\n",
       "      <td>0.794</td>\n",
       "    </tr>\n",
       "    <tr>\n",
       "      <th>1</th>\n",
       "      <td>Random Forest Classifier</td>\n",
       "      <td>0.874</td>\n",
       "      <td>0.873</td>\n",
       "    </tr>\n",
       "    <tr>\n",
       "      <th>2</th>\n",
       "      <td>KNeighbors Classifier</td>\n",
       "      <td>0.936</td>\n",
       "      <td>0.936</td>\n",
       "    </tr>\n",
       "    <tr>\n",
       "      <th>3</th>\n",
       "      <td>XGboost Classifier</td>\n",
       "      <td>0.912</td>\n",
       "      <td>0.912</td>\n",
       "    </tr>\n",
       "    <tr>\n",
       "      <th>4</th>\n",
       "      <td>AdaBoost Classifier</td>\n",
       "      <td>0.968</td>\n",
       "      <td>0.968</td>\n",
       "    </tr>\n",
       "  </tbody>\n",
       "</table>\n",
       "</div>"
      ],
      "text/plain": [
       "                     Modelo  Accuracy  F1 score\n",
       "0  Decision Tree Classifier     0.792     0.794\n",
       "1  Random Forest Classifier     0.874     0.873\n",
       "2     KNeighbors Classifier     0.936     0.936\n",
       "3        XGboost Classifier     0.912     0.912\n",
       "4       AdaBoost Classifier     0.968     0.968"
      ]
     },
     "execution_count": 66,
     "metadata": {},
     "output_type": "execute_result"
    }
   ],
   "source": [
    "pd.DataFrame({\"Modelo\":[\"Decision Tree Classifier\",\"Random Forest Classifier\",\"KNeighbors Classifier\",\"XGboost Classifier\",\"AdaBoost Classifier\"],\n",
    "              \"Accuracy\":[round(accuracy_score(Y_test,y_dtc),3),round(accuracy_score(Y_test,y_rfc),3),round(accuracy_score(Y_test,y_knc),3),round(accuracy_score(Y_test,y_xgbc),3),round(accuracy_score(Y_test,y_abc),3)],\n",
    "              \"F1 score\":[round(f1_score(Y_test,y_dtc,average='weighted'),3),round(f1_score(Y_test,y_rfc,average='weighted'),3),round(f1_score(Y_test,y_knc,average='weighted'),3),round(f1_score(Y_test,y_xgbc,average='weighted'),3),round(f1_score(Y_test,y_abc,average='weighted'),3)]})"
   ]
  }
 ],
 "metadata": {
  "kernelspec": {
   "display_name": "base",
   "language": "python",
   "name": "python3"
  },
  "language_info": {
   "codemirror_mode": {
    "name": "ipython",
    "version": 3
   },
   "file_extension": ".py",
   "mimetype": "text/x-python",
   "name": "python",
   "nbconvert_exporter": "python",
   "pygments_lexer": "ipython3",
   "version": "3.12.4"
  }
 },
 "nbformat": 4,
 "nbformat_minor": 2
}
